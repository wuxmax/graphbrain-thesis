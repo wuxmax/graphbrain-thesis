{
 "cells": [
  {
   "cell_type": "markdown",
   "metadata": {},
   "source": [
    "# Hypergraph operations\n",
    "\n",
    "This notebook provides examples of several operations with an hypergraph, namely:\n",
    "\n",
    "* Creating an hypergraph\n",
    "* Adding the result of parsing natural text to an hypergraph\n",
    "* Pattern-based queries"
   ]
  },
  {
   "cell_type": "code",
   "execution_count": null,
   "metadata": {
    "ExecuteTime": {
     "end_time": "2020-05-28T09:01:54.780324Z",
     "start_time": "2020-05-28T09:01:52.829934Z"
    }
   },
   "outputs": [],
   "source": [
    "from graphbrain import *\n",
    "from graphbrain.notebook import *\n",
    "from graphbrain.parsers import *"
   ]
  },
  {
   "cell_type": "markdown",
   "metadata": {},
   "source": [
    "## Create the hypergraph"
   ]
  },
  {
   "cell_type": "code",
   "execution_count": null,
   "metadata": {
    "ExecuteTime": {
     "end_time": "2020-05-28T09:01:55.145206Z",
     "start_time": "2020-05-28T09:01:55.126841Z"
    }
   },
   "outputs": [],
   "source": [
    "hg = hgraph('example.hg')"
   ]
  },
  {
   "cell_type": "markdown",
   "metadata": {},
   "source": [
    "## Create the parser"
   ]
  },
  {
   "cell_type": "code",
   "execution_count": null,
   "metadata": {
    "ExecuteTime": {
     "end_time": "2020-05-28T09:02:15.855720Z",
     "start_time": "2020-05-28T09:01:57.079779Z"
    }
   },
   "outputs": [],
   "source": [
    "parser = create_parser(lang='en')"
   ]
  },
  {
   "cell_type": "markdown",
   "metadata": {},
   "source": [
    "## Parse text and add to hypergraph"
   ]
  },
  {
   "cell_type": "code",
   "execution_count": null,
   "metadata": {
    "ExecuteTime": {
     "end_time": "2020-05-28T09:02:16.034787Z",
     "start_time": "2020-05-28T09:02:15.904572Z"
    }
   },
   "outputs": [],
   "source": [
    "# change to whatever you like...\n",
    "text = \"\"\"\n",
    "Mary is playing a very old violin.\n",
    "\"\"\"\n",
    "\n",
    "parse_results = parser.parse(text)\n",
    "for parse in parse_results['parses']:\n",
    "    edge = parse['main_edge']\n",
    "    show(edge, style='compact')\n",
    "    hg.add(edge)"
   ]
  },
  {
   "cell_type": "markdown",
   "metadata": {},
   "source": [
    "## Iterate through all edges"
   ]
  },
  {
   "cell_type": "code",
   "execution_count": null,
   "metadata": {
    "ExecuteTime": {
     "end_time": "2020-05-28T09:02:16.338102Z",
     "start_time": "2020-05-28T09:02:16.040252Z"
    }
   },
   "outputs": [],
   "source": [
    "for edge in hg.all():\n",
    "    show(edge, style='oneline')"
   ]
  },
  {
   "cell_type": "markdown",
   "metadata": {},
   "source": [
    "## Search with patterns"
   ]
  },
  {
   "cell_type": "code",
   "execution_count": null,
   "metadata": {
    "ExecuteTime": {
     "end_time": "2020-05-28T09:02:16.390580Z",
     "start_time": "2020-05-28T09:02:16.356169Z"
    }
   },
   "outputs": [],
   "source": [
    "def search_and_show(pattern):\n",
    "    for edge in hg.search(pattern):\n",
    "        show(edge, style='oneline')\n",
    "\n",
    "# '...' at the end indicates that the edge may have an arbitrary number of extra entities\n",
    "search_and_show('((is/Mv.|f--3s-/en playing/Pd.so.|pg----/en) ...)')"
   ]
  },
  {
   "cell_type": "code",
   "execution_count": null,
   "metadata": {
    "ExecuteTime": {
     "end_time": "2020-05-28T09:02:16.497124Z",
     "start_time": "2020-05-28T09:02:16.408164Z"
    }
   },
   "outputs": [],
   "source": [
    "# * matches any entity (atom or hyperedge)\n",
    "print('example #1:')\n",
    "search_and_show('((is/Mv.|f--3s-/en playing/Pd.so.|pg----/en) * *)')\n",
    "\n",
    "# @ matches any atom\n",
    "# & mathes any hyperedge\n",
    "print('example #2:')\n",
    "search_and_show('((is/Mv.|f--3s-/en playing/Pd.so.|pg----/en) @ &)')\n",
    "\n",
    "# any combination of wildcards and entities is possibleabs\n",
    "print('example #3:')\n",
    "search_and_show('(* mary/Cp.s/en *)')\n",
    "\n",
    "print('example #4:')\n",
    "search_and_show('(& @ (a/Md/en ((very/M/en old/Ma/en) violin/Cc.s/en)))')"
   ]
  },
  {
   "cell_type": "code",
   "execution_count": null,
   "metadata": {},
   "outputs": [],
   "source": []
  }
 ],
 "metadata": {
  "kernelspec": {
   "display_name": "graphbrain-semsim",
   "language": "python",
   "name": "graphbrain-semsim"
  },
  "language_info": {
   "codemirror_mode": {
    "name": "ipython",
    "version": 3
   },
   "file_extension": ".py",
   "mimetype": "text/x-python",
   "name": "python",
   "nbconvert_exporter": "python",
   "pygments_lexer": "ipython3",
   "version": "3.9.15"
  }
 },
 "nbformat": 4,
 "nbformat_minor": 4
}
