{
 "cells": [
  {
   "cell_type": "markdown",
   "metadata": {},
   "source": [
    "# Graphbrain parser\n",
    "\n",
    "This notebook is a simple demonstration of the Graphbrain parser, which transforms a sentence in natural language into an hyperedge."
   ]
  },
  {
   "cell_type": "code",
   "execution_count": null,
   "metadata": {
    "ExecuteTime": {
     "end_time": "2020-05-27T14:56:29.034490Z",
     "start_time": "2020-05-27T14:56:26.519729Z"
    }
   },
   "outputs": [],
   "source": [
    "from graphbrain.notebook import *\n",
    "from graphbrain.parsers import *"
   ]
  },
  {
   "cell_type": "markdown",
   "metadata": {},
   "source": [
    "**Note**: When the cell bellow is run, the parser is initalized. This can take from a few seconds to a minute."
   ]
  },
  {
   "cell_type": "code",
   "execution_count": null,
   "metadata": {
    "ExecuteTime": {
     "end_time": "2020-05-27T14:57:00.221073Z",
     "start_time": "2020-05-27T14:56:29.050278Z"
    }
   },
   "outputs": [],
   "source": [
    "# create the parser object\n",
    "parser = create_parser(lang='en')"
   ]
  },
  {
   "cell_type": "code",
   "execution_count": null,
   "metadata": {
    "ExecuteTime": {
     "end_time": "2020-05-27T14:57:00.465965Z",
     "start_time": "2020-05-27T14:57:00.268358Z"
    },
    "scrolled": true
   },
   "outputs": [],
   "source": [
    "# change to whatever you like...\n",
    "text = \"\"\"\n",
    "The Turing test, developed by Alan Turing in 1950, is a test of machine intelligence.\n",
    "\"\"\"\n",
    "\n",
    "style = 'indented'  # possible values: 'indented', 'compact' and 'oneline'\n",
    "tree = False\n",
    "\n",
    "parse_result = parser.parse(text)\n",
    "for parse in parse_result['parses']:\n",
    "    if tree:\n",
    "        print_tree(parse['spacy_sentence'].root)\n",
    "    show(parse['main_edge'], style=style)"
   ]
  },
  {
   "cell_type": "code",
   "execution_count": null,
   "metadata": {},
   "outputs": [],
   "source": []
  }
 ],
 "metadata": {
  "kernelspec": {
   "display_name": "graphbrain-semsim",
   "language": "python",
   "name": "graphbrain-semsim"
  },
  "language_info": {
   "codemirror_mode": {
    "name": "ipython",
    "version": 3
   },
   "file_extension": ".py",
   "mimetype": "text/x-python",
   "name": "python",
   "nbconvert_exporter": "python",
   "pygments_lexer": "ipython3",
   "version": "3.9.15"
  }
 },
 "nbformat": 4,
 "nbformat_minor": 4
}
